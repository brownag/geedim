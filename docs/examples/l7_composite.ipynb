{
 "cells": [
  {
   "cell_type": "markdown",
   "metadata": {},
   "source": [
    "## Landsat-7 cloud/shadow-free composite\n",
    "\n",
    "This example aims to create a Landsat-7 cloud/shadow free composite on, or as close as possible to 22-23 November 2016.  The area of interest covers a range of natural, agricultural and urban areas around Stellenbosch, South Africa.\n",
    "\n",
    "### Setup"
   ]
  },
  {
   "cell_type": "code",
   "execution_count": null,
   "metadata": {},
   "outputs": [],
   "source": [
    "# Uncomment if you don't have geedim and geemap installed\n",
    "# !pip install geedim geemap\n",
    "# !pip install geedim geedim\n"
   ]
  },
  {
   "cell_type": "code",
   "execution_count": null,
   "metadata": {},
   "outputs": [],
   "source": [
    "import ee\n",
    "import geedim as gd\n",
    "import geemap.foliumap as geemap\n",
    "\n",
    "# initialise earth engine with the high-volume endpoint\n",
    "gd.Initialize()\n"
   ]
  },
  {
   "cell_type": "markdown",
   "metadata": {},
   "source": [
    "### Create and search a Landsat-7 collection"
   ]
  },
  {
   "cell_type": "code",
   "execution_count": null,
   "metadata": {},
   "outputs": [],
   "source": [
    "# geojson search region\n",
    "region = {\n",
    "    'type': 'Polygon', 'coordinates': [[\n",
    "        (19.075, -34.115), (19.075, -33.731), (18.723, -33.731),\n",
    "        (18.723, -34.115), (19.075, -34.115)\n",
    "    ]]\n",
    "}\n",
    "\n",
    "# create and search the Landsat-7 collection\n",
    "coll = gd.MaskedCollection.from_name('LANDSAT/LE07/C02/T1_L2')\n",
    "filt_coll = coll.search('2016-10-22', '2016-12-22', region, cloudless_portion=40)\n",
    "\n",
    "# print the search results\n",
    "print(filt_coll.schema_table)\n",
    "print(filt_coll.properties_table)\n"
   ]
  },
  {
   "cell_type": "markdown",
   "metadata": {},
   "source": [
    "#### Notes on search results\n",
    "\n",
    "* The 2016-11-16 images are closest to the target dates, but have some cloud in them (CLOUDLESS < FILL)\n",
    "* No single image has full coverage (FILL=100) of the search area.  In part, this is just due to the footprint of the images, but is also a result of the [Landsat-7 SLC failure](<https://en.wikipedia.org/wiki/Landsat_7#Scan_Line_Corrector_failure>)."
   ]
  },
  {
   "cell_type": "markdown",
   "metadata": {},
   "source": [
    "### Find composite images\n",
    "\n",
    "Here, we find *mosaic*, and *q-mosaic* composite images, prioritising images closest to 2016-11-22 by specifying the `date` parameter."
   ]
  },
  {
   "cell_type": "code",
   "execution_count": null,
   "metadata": {},
   "outputs": [],
   "source": [
    "mosaic_im = filt_coll.composite(\n",
    "    method=gd.CompositeMethod.mosaic, date='2016-11-22')\n",
    "q_mosaic_im = filt_coll.composite(\n",
    "    method=gd.CompositeMethod.q_mosaic, date='2016-11-22')\n"
   ]
  },
  {
   "cell_type": "markdown",
   "metadata": {},
   "source": [
    "### Visualise search result and composite images"
   ]
  },
  {
   "cell_type": "code",
   "execution_count": null,
   "metadata": {},
   "outputs": [],
   "source": [
    "l7_vis_params = dict(min=7300, max=13000, bands=[\n",
    "                     'SR_B3', 'SR_B2', 'SR_B1'], gamma=1.5)\n",
    "map = geemap.Map()\n",
    "\n",
    "map.centerObject(ee.Geometry(region), 12)\n",
    "for im_id in filt_coll.properties.keys():\n",
    "    im = gd.MaskedImage.from_id(im_id, mask=False)\n",
    "    map.addLayer(im.ee_image.clip(region), l7_vis_params, im_id[-20:])\n",
    "\n",
    "map.addLayer(mosaic_im.ee_image.clip(region),\n",
    "             l7_vis_params, 'Mosaic composite')\n",
    "map.addLayer(q_mosaic_im.ee_image.clip(region),\n",
    "             l7_vis_params, 'Q-mosaic composite')\n",
    "\n",
    "region_im = ee.Image().byte().paint(\n",
    "    featureCollection=ee.Geometry(region), width=2, color=1)\n",
    "map.addLayer(region_im, dict(palette=['FF0000']), 'Region')\n",
    "\n",
    "map\n"
   ]
  },
  {
   "cell_type": "markdown",
   "metadata": {},
   "source": [
    "#### Visualisation notes\n",
    "\n",
    "* The *mosaic* method image contains some artefacts due to remnant cloud in the masked input images.\n",
    "* By prioritising pixels with the highest distance to cloud, the *q-mosaic* method is robust to imperfect cloud/shadow masking, and produces a composite free of cloud artefacts.\n",
    "\n",
    "### Download\n",
    "\n",
    "Lastly, we download the *q-mosaic* composite.  `crs`, `scale` and `region` parameters must be specified, as the composite has no fixed projection."
   ]
  },
  {
   "cell_type": "code",
   "execution_count": null,
   "metadata": {},
   "outputs": [],
   "source": [
    "# download the q_mosaic composite image, specifying crs, scale and region as\n",
    "# they have no fixed projection\n",
    "q_mosaic_im.download('l7_q_mosaic_im.tif', crs='EPSG:3857',\n",
    "                     scale=30, region=region, dtype='uint16', overwrite=True)\n"
   ]
  }
 ],
 "metadata": {
  "interpreter": {
   "hash": "a5cb0e16c618ce62d5962a2f34302e2d299d083ff8e8afee2c1c64a34662e4b4"
  },
  "kernelspec": {
   "display_name": "Python 3 (ipykernel)",
   "language": "python",
   "name": "python3"
  },
  "language_info": {
   "codemirror_mode": {
    "name": "ipython",
    "version": 3
   },
   "file_extension": ".py",
   "mimetype": "text/x-python",
   "name": "python",
   "nbconvert_exporter": "python",
   "pygments_lexer": "ipython3",
   "version": "3.9.10"
  }
 },
 "nbformat": 4,
 "nbformat_minor": 2
}
